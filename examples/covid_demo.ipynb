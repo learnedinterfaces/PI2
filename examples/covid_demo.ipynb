{
 "cells": [
  {
   "cell_type": "code",
   "execution_count": null,
   "id": "40de90fe-909b-4294-9a0c-4bf3448ee1df",
   "metadata": {},
   "outputs": [],
   "source": [
    "import pandas as pd\n",
    "import sqlite3\n",
    "\n",
    "db = sqlite3.connect(\"pi.db\")\n",
    "\n",
    "def q(query):\n",
    "    df = pd.read_sql_query(query, db, parse_dates=[\"date\"])\n",
    "    return df\n",
    "\n",
    "pd.options.display.max_rows = 5"
   ]
  },
  {
   "cell_type": "markdown",
   "id": "97c91125-3a37-4e37-bda2-a431ed7f759c",
   "metadata": {},
   "source": [
    "## How does the covid total case changes over time? "
   ]
  },
  {
   "cell_type": "code",
   "execution_count": null,
   "id": "98aaf546-fbb7-440c-9c47-69ca73e6ce61",
   "metadata": {},
   "outputs": [],
   "source": [
    "q('''select date, sum(cases) from covid group by date''')"
   ]
  },
  {
   "cell_type": "markdown",
   "id": "a0cda323-b18a-4857-b1fb-fe8a0bc8f27d",
   "metadata": {},
   "source": [
    "## How does the covid cases changes over time in  Alaska?  How about in California or New York during the last 7 days or 30 days? "
   ]
  },
  {
   "cell_type": "code",
   "execution_count": null,
   "id": "a9342cb5-dd1f-46b5-ab6f-6dfec8151d9c",
   "metadata": {},
   "outputs": [],
   "source": [
    "q('''select date, sum(cases) from covid \n",
    "     where state='Alaska' group by date ''')"
   ]
  },
  {
   "cell_type": "code",
   "execution_count": null,
   "id": "38f08130-3ffd-465b-b504-b1b179cbfb3b",
   "metadata": {},
   "outputs": [],
   "source": [
    "q('''select date, sum(cases) from covid \n",
    "     where state='California' \n",
    "           and date>date('2022-01-01', '-7 days') group by date ''')"
   ]
  },
  {
   "cell_type": "code",
   "execution_count": null,
   "id": "98e2cf54-7f8d-43d2-9ec6-b1b6fefd9700",
   "metadata": {},
   "outputs": [],
   "source": [
    "q('''select date, sum(cases) from covid \n",
    "     where state='New York' \n",
    "           and date>date('2022-01-01', '-30 days') group by date''')"
   ]
  },
  {
   "cell_type": "code",
   "execution_count": null,
   "id": "955147f5-9c4f-49fa-abca-5d0e2b154dc6",
   "metadata": {},
   "outputs": [],
   "source": [
    "q(\"select state, cases, geography from states\")"
   ]
  },
  {
   "cell_type": "code",
   "execution_count": null,
   "id": "ec6bb430-0261-42cf-b1b0-f0729fd627cd",
   "metadata": {},
   "outputs": [],
   "source": [
    "q(\"select state, death, geography from states\")"
   ]
  },
  {
   "cell_type": "markdown",
   "id": "b102dfbb-f20b-47a2-ae50-ab08757fcc4d",
   "metadata": {},
   "source": [
    "## Query in natural language (config OPENAI_KEY before trying this, see README.md)"
   ]
  },
  {
   "cell_type": "code",
   "execution_count": null,
   "id": "e4ba8c86-d25d-464d-9223-a3464a8ab95f",
   "metadata": {},
   "outputs": [],
   "source": [
    "What are the total covid cases or deaths \n",
    "across all the states of the U.S.?"
   ]
  }
 ],
 "metadata": {
  "kernelspec": {
   "display_name": "Python 3 (ipykernel)",
   "language": "python",
   "name": "python3"
  },
  "language_info": {
   "codemirror_mode": {
    "name": "ipython",
    "version": 3
   },
   "file_extension": ".py",
   "mimetype": "text/x-python",
   "name": "python",
   "nbconvert_exporter": "python",
   "pygments_lexer": "ipython3",
   "version": "3.11.3"
  },
  "pi-specs": []
 },
 "nbformat": 4,
 "nbformat_minor": 5
}
